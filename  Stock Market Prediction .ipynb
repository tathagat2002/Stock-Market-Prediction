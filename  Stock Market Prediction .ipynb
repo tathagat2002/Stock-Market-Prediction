{
 "cells": [
  {
   "cell_type": "code",
   "execution_count": 1,
   "id": "fc131b40",
   "metadata": {},
   "outputs": [],
   "source": [
    "import pandas as pd\n",
    "import numpy as np\n",
    "from sklearn.preprocessing import MinMaxScaler\n",
    "from keras.models import Sequential\n",
    "from keras.layers import LSTM, Dense\n"
   ]
  },
  {
   "cell_type": "code",
   "execution_count": 2,
   "id": "b0d1e9ff",
   "metadata": {},
   "outputs": [],
   "source": [
    "url = \"https://raw.githubusercontent.com/mwitiderrick/stockprice/master/NSE-TATAGLOBAL.csv\"\n",
    "df = pd.read_csv(url)\n",
    "df = df.sort_index(ascending=True, axis=0)\n",
    "df = df.reset_index(drop=True)\n",
    "\n",
    "# Splitting the dataset into training and testing\n",
    "train_size = int(len(df) * 0.8)\n",
    "train_data = df[:train_size]\n",
    "test_data = df[train_size:]\n",
    "\n",
    "# Scaling the data\n",
    "scaler = MinMaxScaler(feature_range=(0, 1))\n",
    "scaled_data = scaler.fit_transform(df['Close'].values.reshape(-1, 1))\n"
   ]
  },
  {
   "cell_type": "code",
   "execution_count": 3,
   "id": "42996463",
   "metadata": {},
   "outputs": [],
   "source": [
    "# Define the window size for time series data\n",
    "window_size = 60\n",
    "\n",
    "# Prepare the training data\n",
    "train_X, train_y = [], []\n",
    "for i in range(window_size, len(train_data)):\n",
    "    train_X.append(scaled_data[i-window_size:i, 0])\n",
    "    train_y.append(scaled_data[i, 0])\n",
    "train_X, train_y = np.array(train_X), np.array(train_y)\n",
    "\n",
    "# Reshape the data for LSTM input [samples, time steps, features]\n",
    "train_X = np.reshape(train_X, (train_X.shape[0], train_X.shape[1], 1))\n"
   ]
  },
  {
   "cell_type": "code",
   "execution_count": 4,
   "id": "7b4c29e5",
   "metadata": {},
   "outputs": [
    {
     "name": "stdout",
     "output_type": "stream",
     "text": [
      "Epoch 1/10\n",
      "98/98 [==============================] - 9s 34ms/step - loss: 0.0043\n",
      "Epoch 2/10\n",
      "98/98 [==============================] - 4s 36ms/step - loss: 0.0010\n",
      "Epoch 3/10\n",
      "98/98 [==============================] - 4s 37ms/step - loss: 8.5594e-04\n",
      "Epoch 4/10\n",
      "98/98 [==============================] - 3s 34ms/step - loss: 7.6841e-04\n",
      "Epoch 5/10\n",
      "98/98 [==============================] - 3s 34ms/step - loss: 7.8455e-04\n",
      "Epoch 6/10\n",
      "98/98 [==============================] - 3s 34ms/step - loss: 7.1014e-04\n",
      "Epoch 7/10\n",
      "98/98 [==============================] - 4s 38ms/step - loss: 6.4820e-04\n",
      "Epoch 8/10\n",
      "98/98 [==============================] - 4s 38ms/step - loss: 5.7646e-04\n",
      "Epoch 9/10\n",
      "98/98 [==============================] - 4s 37ms/step - loss: 5.4122e-04\n",
      "Epoch 10/10\n",
      "98/98 [==============================] - 4s 37ms/step - loss: 5.0952e-04\n"
     ]
    },
    {
     "data": {
      "text/plain": [
       "<keras.callbacks.History at 0x2b258305f60>"
      ]
     },
     "execution_count": 4,
     "metadata": {},
     "output_type": "execute_result"
    }
   ],
   "source": [
    "model = Sequential()\n",
    "model.add(LSTM(units=50, return_sequences=True, input_shape=(train_X.shape[1], 1)))\n",
    "model.add(LSTM(units=50))\n",
    "model.add(Dense(units=1))\n",
    "\n",
    "model.compile(optimizer='adam', loss='mean_squared_error')\n",
    "model.fit(train_X, train_y, epochs=10, batch_size=16)\n"
   ]
  },
  {
   "cell_type": "code",
   "execution_count": 5,
   "id": "49e38c99",
   "metadata": {},
   "outputs": [
    {
     "name": "stdout",
     "output_type": "stream",
     "text": [
      "11/11 [==============================] - 2s 25ms/step\n",
      "RMSE: 230.99110413917646\n"
     ]
    }
   ],
   "source": [
    "# Prepare the test data\n",
    "test_X, test_y = [], []\n",
    "for i in range(window_size, len(test_data)):\n",
    "    test_X.append(scaled_data[i-window_size:i, 0])\n",
    "    test_y.append(scaled_data[i, 0])\n",
    "test_X, test_y = np.array(test_X), np.array(test_y)\n",
    "\n",
    "# Reshape the data for LSTM input [samples, time steps, features]\n",
    "test_X = np.reshape(test_X, (test_X.shape[0], test_X.shape[1], 1))\n",
    "\n",
    "# Make predictions\n",
    "predictions = model.predict(test_X)\n",
    "predictions = scaler.inverse_transform(predictions)\n",
    "\n",
    "# Calculate root mean squared error (RMSE)\n",
    "rmse = np.sqrt(np.mean(((predictions - test_y) ** 2)))\n",
    "print(\"RMSE:\", rmse)\n"
   ]
  },
  {
   "cell_type": "code",
   "execution_count": null,
   "id": "862b0340",
   "metadata": {},
   "outputs": [],
   "source": []
  }
 ],
 "metadata": {
  "kernelspec": {
   "display_name": "Python 3 (ipykernel)",
   "language": "python",
   "name": "python3"
  },
  "language_info": {
   "codemirror_mode": {
    "name": "ipython",
    "version": 3
   },
   "file_extension": ".py",
   "mimetype": "text/x-python",
   "name": "python",
   "nbconvert_exporter": "python",
   "pygments_lexer": "ipython3",
   "version": "3.10.9"
  }
 },
 "nbformat": 4,
 "nbformat_minor": 5
}
